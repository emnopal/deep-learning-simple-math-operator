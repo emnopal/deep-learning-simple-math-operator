{
 "cells": [
  {
   "cell_type": "code",
   "execution_count": 1,
   "id": "bd7fb045",
   "metadata": {
    "ExecuteTime": {
     "end_time": "2021-10-22T03:19:51.434951Z",
     "start_time": "2021-10-22T03:19:50.928906Z"
    },
    "id": "bd7fb045"
   },
   "outputs": [],
   "source": [
    "import pandas as pd"
   ]
  },
  {
   "cell_type": "code",
   "execution_count": 2,
   "id": "2503bb8e",
   "metadata": {
    "ExecuteTime": {
     "end_time": "2021-10-22T03:19:52.830991Z",
     "start_time": "2021-10-22T03:19:52.749996Z"
    },
    "colab": {
     "base_uri": "https://localhost:8080/",
     "height": 419
    },
    "id": "2503bb8e",
    "outputId": "da9dd9fa-78a2-4fb5-d914-25646e534da7"
   },
   "outputs": [
    {
     "name": "stdout",
     "output_type": "stream",
     "text": [
      "with zeros: (10201, 3), without zeros: (10000, 3)\n"
     ]
    }
   ],
   "source": [
    "n = 101\n",
    "\n",
    "df_add = pd.DataFrame({\n",
    "    'a': [i for i in range(n) for j in range(n)],\n",
    "    'b': [j for i in range(n) for j in range(n)],\n",
    "    'results': [i+j for i in range(n) for j in range(n)],\n",
    "})\n",
    "\n",
    "df_time = pd.DataFrame({\n",
    "    'a': [i for i in range(n) for j in range(n)],\n",
    "    'b': [j for i in range(n) for j in range(n)],\n",
    "    'results': [i*j for i in range(n) for j in range(n)],\n",
    "})\n",
    "\n",
    "df_subtract = pd.DataFrame({\n",
    "    'a': [i for i in range(n) for j in range(n)],\n",
    "    'b': [j for i in range(n) for j in range(n)],\n",
    "    'results': [i-j for i in range(n) for j in range(n)],\n",
    "})\n",
    "\n",
    "df_divide = pd.DataFrame({\n",
    "    'a': [i for i in range(1, n) for j in range(1, n)],\n",
    "    'b': [j for i in range(1, n) for j in range(1, n)],\n",
    "    'results': [i/j for i in range(1, n) for j in range(1, n)],\n",
    "})\n",
    "\n",
    "print(f\"with zeros: {df_time.shape}, without zeros: {df_divide.shape}\")"
   ]
  },
  {
   "cell_type": "code",
   "execution_count": 3,
   "id": "63359e91",
   "metadata": {
    "ExecuteTime": {
     "end_time": "2021-10-22T03:19:54.874177Z",
     "start_time": "2021-10-22T03:19:54.800168Z"
    }
   },
   "outputs": [
    {
     "name": "stdout",
     "output_type": "stream",
     "text": [
      "total data testing: (10000, 3)\n"
     ]
    }
   ],
   "source": [
    "n = 101\n",
    "n_test = 201\n",
    "\n",
    "test_add = pd.DataFrame({\n",
    "    'a': [i for i in range(n, n_test) for j in range(n, n_test)],\n",
    "    'b': [j for i in range(n, n_test) for j in range(n, n_test)],\n",
    "    'results': [i+j for i in range(n, n_test) for j in range(n, n_test)],\n",
    "})\n",
    "\n",
    "test_time = pd.DataFrame({\n",
    "    'a': [i for i in range(n, n_test) for j in range(n, n_test)],\n",
    "    'b': [j for i in range(n, n_test) for j in range(n, n_test)],\n",
    "    'results': [i*j for i in range(n, n_test) for j in range(n, n_test)],\n",
    "})\n",
    "\n",
    "test_subtract = pd.DataFrame({\n",
    "    'a': [i for i in range(n, n_test) for j in range(n, n_test)],\n",
    "    'b': [j for i in range(n, n_test) for j in range(n, n_test)],\n",
    "    'results': [i-j for i in range(n, n_test) for j in range(n, n_test)],\n",
    "})\n",
    "\n",
    "test_divide = pd.DataFrame({\n",
    "    'a': [i for i in range(n, n_test) for j in range(n, n_test)],\n",
    "    'b': [j for i in range(n, n_test) for j in range(n, n_test)],\n",
    "    'results': [i/j for i in range(n, n_test) for j in range(n, n_test)],\n",
    "})\n",
    "\n",
    "print(f\"total data testing: {test_time.shape}\")"
   ]
  },
  {
   "cell_type": "code",
   "execution_count": 4,
   "id": "4f404698",
   "metadata": {
    "ExecuteTime": {
     "end_time": "2021-10-22T03:20:02.379429Z",
     "start_time": "2021-10-22T03:19:57.249440Z"
    }
   },
   "outputs": [
    {
     "name": "stdout",
     "output_type": "stream",
     "text": [
      "with zeros: (1002001, 3), without zeros: (1000000, 3)\n"
     ]
    }
   ],
   "source": [
    "# For Evaluation\n",
    "n = 1001\n",
    "\n",
    "eval_add = pd.DataFrame({\n",
    "    'a': [i for i in range(n) for j in range(n)],\n",
    "    'b': [j for i in range(n) for j in range(n)],\n",
    "    'results': [i+j for i in range(n,) for j in range(n)],\n",
    "})\n",
    "\n",
    "eval_time = pd.DataFrame({\n",
    "    'a': [i for i in range(n) for j in range(n)],\n",
    "    'b': [j for i in range(n) for j in range(n)],\n",
    "    'results': [i*j for i in range(n) for j in range(n)],\n",
    "})\n",
    "\n",
    "eval_subtract = pd.DataFrame({\n",
    "    'a': [i for i in range(n) for j in range(n)],\n",
    "    'b': [j for i in range(n) for j in range(n)],\n",
    "    'results': [i-j for i in range(n) for j in range(n)],\n",
    "})\n",
    "\n",
    "eval_divide = pd.DataFrame({\n",
    "    'a': [i for i in range(1,n) for j in range(1,n)],\n",
    "    'b': [j for i in range(1,n) for j in range(1,n)],\n",
    "    'results': [i/j for i in range(1,n) for j in range(1,n)],\n",
    "})\n",
    "\n",
    "print(f\"with zeros: {eval_time.shape}, without zeros: {eval_divide.shape}\")"
   ]
  },
  {
   "cell_type": "code",
   "execution_count": 5,
   "id": "d6859a50",
   "metadata": {
    "ExecuteTime": {
     "end_time": "2021-10-22T03:22:55.871310Z",
     "start_time": "2021-10-22T03:22:55.853303Z"
    }
   },
   "outputs": [],
   "source": [
    "length_train = df_time.shape[0]\n",
    "length_train_nozeros = df_divide.shape[0]\n",
    "length_test = test_time.shape[0]\n",
    "length_eval = eval_time.shape[0]\n",
    "length_eval_nozeros = eval_divide.shape[0]"
   ]
  },
  {
   "cell_type": "code",
   "execution_count": 4,
   "id": "90608474",
   "metadata": {
    "ExecuteTime": {
     "end_time": "2021-10-18T11:25:07.247316Z",
     "start_time": "2021-10-18T11:25:04.446647Z"
    },
    "id": "90608474"
   },
   "outputs": [],
   "source": [
    "from sklearn.preprocessing import StandardScaler\n",
    "scaler = StandardScaler()\n",
    "\n",
    "X_add = df_add.drop(columns=['results'])\n",
    "y_add = df_add.results\n",
    "X_test_add = test_add.drop(columns=['results'])\n",
    "y_test_add = test_add.results\n",
    "X_eval_add = eval_add.drop(columns=['results'])\n",
    "y_eval_add = eval_add.results\n",
    "\n",
    "X_time = df_time.drop(columns=['results'])\n",
    "y_time = df_time.results\n",
    "X_test_time = test_time.drop(columns=['results'])\n",
    "y_test_time = test_time.results\n",
    "X_eval_time = eval_time.drop(columns=['results'])\n",
    "y_eval_time = eval_time.results\n",
    "\n",
    "X_subtract = df_subtract.drop(columns=['results'])\n",
    "y_subtract = df_subtract.results\n",
    "X_test_subtract = test_subtract.drop(columns=['results'])\n",
    "y_test_subtract = test_subtract.results\n",
    "X_eval_subtract = eval_subtract.drop(columns=['results'])\n",
    "y_eval_subtract = eval_subtract.results\n",
    "\n",
    "X_divide = df_divide.drop(columns=['results'])\n",
    "y_divide = df_divide.results\n",
    "X_test_divide = test_divide.drop(columns=['results'])\n",
    "y_test_divide = test_divide.results\n",
    "X_eval_divide = eval_divide.drop(columns=['results'])\n",
    "y_eval_divide = eval_divide.results"
   ]
  },
  {
   "cell_type": "markdown",
   "id": "b712c9b1",
   "metadata": {},
   "source": [
    "# Using Ordinary ML Algorithms"
   ]
  },
  {
   "cell_type": "code",
   "execution_count": 12,
   "id": "01dba91f",
   "metadata": {
    "ExecuteTime": {
     "end_time": "2021-10-18T11:31:02.294047Z",
     "start_time": "2021-10-18T11:31:02.261039Z"
    }
   },
   "outputs": [],
   "source": [
    "from sklearn.linear_model import LinearRegression\n",
    "from sklearn.svm import SVR\n",
    "from sklearn.tree import DecisionTreeRegressor\n",
    "from sklearn.ensemble import RandomForestRegressor, AdaBoostRegressor\n",
    "from sklearn.neighbors import KNeighborsRegressor\n",
    "from sklearn.metrics import mean_squared_error\n",
    "from xgboost import XGBRegressor\n",
    "\n",
    "\n",
    "def training(model, X_train, y_train, X_test, y_test):\n",
    "    model.fit(X_train, y_train)\n",
    "    train_score = mean_squared_error(\n",
    "        y_pred=model.predict(X_train), y_true=y_train)\n",
    "    test_score = mean_squared_error(\n",
    "        y_pred=model.predict(X_test), y_true=y_test)\n",
    "    return train_score, test_score, model\n",
    "\n",
    "\n",
    "def scoring(X_train, y_train, X_test, y_test):\n",
    "\n",
    "    dict_model = {\n",
    "        'LR': LinearRegression(),\n",
    "        'KNN': KNeighborsRegressor(n_jobs=-1, n_neighbors=10),\n",
    "        'AB': AdaBoostRegressor(random_state=123),\n",
    "        'DT': DecisionTreeRegressor(random_state=123),\n",
    "        'RF': RandomForestRegressor(n_estimators=100, max_depth=20, random_state=123, n_jobs=-1),\n",
    "        'XGB': XGBRegressor(n_estimators=100, learning_rate=.05, n_jobs=2, objective='reg:squarederror', colsample_bytree=0.5, max_depth=6, min_child_weight=1, subsample=0.5)\n",
    "    }\n",
    "\n",
    "    train_scores, test_scores, model_name = [], [], []\n",
    "\n",
    "    for name, model in dict_model.items():\n",
    "        train_score, test_score, model = training(\n",
    "            model, X_train, y_train, X_test, y_test)\n",
    "        train_scores.append(train_score)\n",
    "        test_scores.append(test_score)\n",
    "        model_name.append(name)\n",
    "\n",
    "    df_score = pd.DataFrame({\n",
    "        'Train Score': train_scores,\n",
    "        'Test Score': test_scores\n",
    "    }, index=model_name)\n",
    "\n",
    "    return train_scores, test_scores, model_name, df_score\n",
    "\n",
    "def get_predict(X, y, data, model_name='LR'):\n",
    "    dict_model = {\n",
    "        'LR': LinearRegression(),\n",
    "        'KNN': KNeighborsRegressor(n_jobs=-1, n_neighbors=10),\n",
    "        'AB': AdaBoostRegressor(random_state=123),\n",
    "        'DT': DecisionTreeRegressor(random_state=123),\n",
    "        'RF': RandomForestRegressor(n_estimators=100, max_depth=20, random_state=123, n_jobs=-1),\n",
    "        'XGB': XGBRegressor(n_estimators=100, learning_rate=.05, n_jobs=2, objective='reg:squarederror', colsample_bytree=0.5, max_depth=6, min_child_weight=1, subsample=0.5)\n",
    "    }\n",
    "    model = dict_model[model_name]\n",
    "    model.fit(X, y)\n",
    "    return model.predict(data)"
   ]
  },
  {
   "cell_type": "code",
   "execution_count": 6,
   "id": "f66184d7",
   "metadata": {
    "ExecuteTime": {
     "end_time": "2021-10-18T11:25:26.375497Z",
     "start_time": "2021-10-18T11:25:16.175620Z"
    }
   },
   "outputs": [],
   "source": [
    "# add\n",
    "add_train_scores, add_test_scores, add_model_name, add_df_score = scoring(\n",
    "    X_add, y_add, X_test_add, y_test_add)\n",
    "\n",
    "# time\n",
    "time_train_scores, time_test_scores, time_model_name, time_df_score = scoring(\n",
    "    X_time, y_time, X_test_time, y_test_time)\n",
    "\n",
    "# subtract\n",
    "subtract_train_scores, subtract_test_scores, subtract_model_name, subtract_df_score = scoring(\n",
    "    X_subtract, y_subtract, X_test_subtract, y_test_subtract)\n",
    "\n",
    "# divide\n",
    "divide_train_scores, divide_test_scores, dividet_model_name, divide_df_score = scoring(\n",
    "    X_divide, y_divide, X_test_divide, y_test_divide)"
   ]
  },
  {
   "cell_type": "markdown",
   "id": "1179c204",
   "metadata": {},
   "source": [
    "## Addition"
   ]
  },
  {
   "cell_type": "code",
   "execution_count": 7,
   "id": "8837d749",
   "metadata": {
    "ExecuteTime": {
     "end_time": "2021-10-18T11:25:36.486949Z",
     "start_time": "2021-10-18T11:25:36.437764Z"
    },
    "scrolled": true
   },
   "outputs": [
    {
     "data": {
      "text/html": [
       "<div>\n",
       "<style scoped>\n",
       "    .dataframe tbody tr th:only-of-type {\n",
       "        vertical-align: middle;\n",
       "    }\n",
       "\n",
       "    .dataframe tbody tr th {\n",
       "        vertical-align: top;\n",
       "    }\n",
       "\n",
       "    .dataframe thead th {\n",
       "        text-align: right;\n",
       "    }\n",
       "</style>\n",
       "<table border=\"1\" class=\"dataframe\">\n",
       "  <thead>\n",
       "    <tr style=\"text-align: right;\">\n",
       "      <th></th>\n",
       "      <th>Train Score</th>\n",
       "      <th>Test Score</th>\n",
       "    </tr>\n",
       "  </thead>\n",
       "  <tbody>\n",
       "    <tr>\n",
       "      <th>AB</th>\n",
       "      <td>6.108968e+01</td>\n",
       "      <td>1.680019e+04</td>\n",
       "    </tr>\n",
       "    <tr>\n",
       "      <th>XGB</th>\n",
       "      <td>1.205510e+01</td>\n",
       "      <td>1.407013e+04</td>\n",
       "    </tr>\n",
       "    <tr>\n",
       "      <th>KNN</th>\n",
       "      <td>5.596706e-02</td>\n",
       "      <td>1.234227e+04</td>\n",
       "    </tr>\n",
       "    <tr>\n",
       "      <th>RF</th>\n",
       "      <td>1.077517e-02</td>\n",
       "      <td>1.196063e+04</td>\n",
       "    </tr>\n",
       "    <tr>\n",
       "      <th>DT</th>\n",
       "      <td>0.000000e+00</td>\n",
       "      <td>1.186750e+04</td>\n",
       "    </tr>\n",
       "    <tr>\n",
       "      <th>LR</th>\n",
       "      <td>1.864348e-27</td>\n",
       "      <td>2.548371e-26</td>\n",
       "    </tr>\n",
       "  </tbody>\n",
       "</table>\n",
       "</div>"
      ],
      "text/plain": [
       "      Train Score    Test Score\n",
       "AB   6.108968e+01  1.680019e+04\n",
       "XGB  1.205510e+01  1.407013e+04\n",
       "KNN  5.596706e-02  1.234227e+04\n",
       "RF   1.077517e-02  1.196063e+04\n",
       "DT   0.000000e+00  1.186750e+04\n",
       "LR   1.864348e-27  2.548371e-26"
      ]
     },
     "execution_count": 7,
     "metadata": {},
     "output_type": "execute_result"
    }
   ],
   "source": [
    "add_df_score.sort_values(by='Test Score', ascending=False)"
   ]
  },
  {
   "cell_type": "code",
   "execution_count": null,
   "id": "f8193ac2",
   "metadata": {},
   "outputs": [],
   "source": [
    "pred = predicting_model(model, X, ndim=1)\n",
    "print(print_accuracy(results, predicted))\n",
    "\n",
    "plt.plot(results[:length_default_dataset_with_zeros],\n",
    "         length[:length_default_dataset_with_zeros], 'y')\n",
    "plt.plot(predicted[:length_default_dataset_with_zeros],\n",
    "         length[:length_default_dataset_with_zeros], 'r')\n",
    "plt.plot(results[length_default_dataset_with_zeros:, ],\n",
    "         length[length_default_dataset_with_zeros:], 'b--', linewidth=2)\n",
    "plt.plot(predicted[length_default_dataset_with_zeros:],\n",
    "         length[length_default_dataset_with_zeros:], 'g--', linewidth=2)\n",
    "\n",
    "plt.legend(['Interpolation Real', 'Interpolation Predicted',\n",
    "           'Extrapolation Real', 'Extrapolation Predicted'], bbox_to_anchor=(1, 1))\n",
    "\n",
    "plt.show()"
   ]
  },
  {
   "cell_type": "code",
   "execution_count": 36,
   "id": "68005370",
   "metadata": {
    "ExecuteTime": {
     "end_time": "2021-10-18T11:47:32.982887Z",
     "start_time": "2021-10-18T11:47:26.322102Z"
    }
   },
   "outputs": [
    {
     "name": "stdout",
     "output_type": "stream",
     "text": [
      "Enter the number, split by whitespace: 13450 14340\n",
      "Enter the model, Available models: [AB, XGB, KNN, RF, DT, LR]: LR\n",
      "Predicted: 27789.999999999978, Real: 27790.0\n",
      "Mean Squared Error: 4.764560328305439e-22\n"
     ]
    }
   ],
   "source": [
    "input_num = list(\n",
    "    map(float, input(\"Enter the number, split by whitespace: \").split()))\n",
    "input_model = input(\n",
    "    \"Enter the model, Available models: [AB, XGB, KNN, RF, DT, LR]: \")\n",
    "\n",
    "example_predict_addition = get_predict(\n",
    "    X=X_add, y=y_add, data=[input_num], model_name=input_model)\n",
    "print(\n",
    "    f\"Predicted: {example_predict_addition[0]}, Real: {input_num[0]+input_num[1]}\")\n",
    "print(\n",
    "    f\"Mean Squared Error: {mean_squared_error(example_predict_addition, [input_num[0]+input_num[1]])}\")"
   ]
  },
  {
   "cell_type": "markdown",
   "id": "d884d86b",
   "metadata": {},
   "source": [
    "## Multiplication"
   ]
  },
  {
   "cell_type": "code",
   "execution_count": 8,
   "id": "85ebd3ca",
   "metadata": {
    "ExecuteTime": {
     "end_time": "2021-10-18T11:25:48.172322Z",
     "start_time": "2021-10-18T11:25:48.144329Z"
    }
   },
   "outputs": [
    {
     "data": {
      "text/html": [
       "<div>\n",
       "<style scoped>\n",
       "    .dataframe tbody tr th:only-of-type {\n",
       "        vertical-align: middle;\n",
       "    }\n",
       "\n",
       "    .dataframe tbody tr th {\n",
       "        vertical-align: top;\n",
       "    }\n",
       "\n",
       "    .dataframe thead th {\n",
       "        text-align: right;\n",
       "    }\n",
       "</style>\n",
       "<table border=\"1\" class=\"dataframe\">\n",
       "  <thead>\n",
       "    <tr style=\"text-align: right;\">\n",
       "      <th></th>\n",
       "      <th>Train Score</th>\n",
       "      <th>Test Score</th>\n",
       "    </tr>\n",
       "  </thead>\n",
       "  <tbody>\n",
       "    <tr>\n",
       "      <th>XGB</th>\n",
       "      <td>751923.588952</td>\n",
       "      <td>2.826826e+08</td>\n",
       "    </tr>\n",
       "    <tr>\n",
       "      <th>AB</th>\n",
       "      <td>137248.561111</td>\n",
       "      <td>2.295311e+08</td>\n",
       "    </tr>\n",
       "    <tr>\n",
       "      <th>KNN</th>\n",
       "      <td>198.745439</td>\n",
       "      <td>2.043024e+08</td>\n",
       "    </tr>\n",
       "    <tr>\n",
       "      <th>RF</th>\n",
       "      <td>26.642616</td>\n",
       "      <td>1.996093e+08</td>\n",
       "    </tr>\n",
       "    <tr>\n",
       "      <th>DT</th>\n",
       "      <td>0.000000</td>\n",
       "      <td>1.984698e+08</td>\n",
       "    </tr>\n",
       "    <tr>\n",
       "      <th>LR</th>\n",
       "      <td>722500.000000</td>\n",
       "      <td>1.195414e+08</td>\n",
       "    </tr>\n",
       "  </tbody>\n",
       "</table>\n",
       "</div>"
      ],
      "text/plain": [
       "       Train Score    Test Score\n",
       "XGB  751923.588952  2.826826e+08\n",
       "AB   137248.561111  2.295311e+08\n",
       "KNN     198.745439  2.043024e+08\n",
       "RF       26.642616  1.996093e+08\n",
       "DT        0.000000  1.984698e+08\n",
       "LR   722500.000000  1.195414e+08"
      ]
     },
     "execution_count": 8,
     "metadata": {},
     "output_type": "execute_result"
    }
   ],
   "source": [
    "time_df_score.sort_values(by='Test Score', ascending=False)"
   ]
  },
  {
   "cell_type": "code",
   "execution_count": 37,
   "id": "cd49e7ae",
   "metadata": {
    "ExecuteTime": {
     "end_time": "2021-10-18T11:47:59.754464Z",
     "start_time": "2021-10-18T11:47:53.185158Z"
    }
   },
   "outputs": [
    {
     "name": "stdout",
     "output_type": "stream",
     "text": [
      "Enter the number, split by whitespace: 34 56\n",
      "Enter the model, Available models: [AB, XGB, KNN, RF, DT, LR]: LR\n",
      "Predicted: 1999.999999999999, Real: 1904.0\n",
      "Mean Squared Error: 9215.999999999825\n"
     ]
    }
   ],
   "source": [
    "input_num = list(\n",
    "    map(float, input(\"Enter the number, split by whitespace: \").split()))\n",
    "input_model = input(\n",
    "    \"Enter the model, Available models: [AB, XGB, KNN, RF, DT, LR]: \").upper()\n",
    "\n",
    "example_predict_multiplication = get_predict(\n",
    "    X=X_time, y=y_time, data=[input_num], model_name=input_model)\n",
    "print(f\"Predicted: {example_predict_multiplication[0]}, Real: {input_num[0]*input_num[1]}\")\n",
    "print(\n",
    "    f\"Mean Squared Error: {mean_squared_error(example_predict_multiplication, [input_num[0]*input_num[1]])}\")"
   ]
  },
  {
   "cell_type": "markdown",
   "id": "e52fd949",
   "metadata": {},
   "source": [
    "## Subtraction"
   ]
  },
  {
   "cell_type": "code",
   "execution_count": 9,
   "id": "e520bbd2",
   "metadata": {
    "ExecuteTime": {
     "end_time": "2021-10-18T11:25:50.741290Z",
     "start_time": "2021-10-18T11:25:50.710838Z"
    }
   },
   "outputs": [
    {
     "data": {
      "text/html": [
       "<div>\n",
       "<style scoped>\n",
       "    .dataframe tbody tr th:only-of-type {\n",
       "        vertical-align: middle;\n",
       "    }\n",
       "\n",
       "    .dataframe tbody tr th {\n",
       "        vertical-align: top;\n",
       "    }\n",
       "\n",
       "    .dataframe thead th {\n",
       "        text-align: right;\n",
       "    }\n",
       "</style>\n",
       "<table border=\"1\" class=\"dataframe\">\n",
       "  <thead>\n",
       "    <tr style=\"text-align: right;\">\n",
       "      <th></th>\n",
       "      <th>Train Score</th>\n",
       "      <th>Test Score</th>\n",
       "    </tr>\n",
       "  </thead>\n",
       "  <tbody>\n",
       "    <tr>\n",
       "      <th>XGB</th>\n",
       "      <td>1.183115e+01</td>\n",
       "      <td>1.670830e+03</td>\n",
       "    </tr>\n",
       "    <tr>\n",
       "      <th>AB</th>\n",
       "      <td>6.306760e+01</td>\n",
       "      <td>1.666639e+03</td>\n",
       "    </tr>\n",
       "    <tr>\n",
       "      <th>RF</th>\n",
       "      <td>8.898902e-03</td>\n",
       "      <td>1.666502e+03</td>\n",
       "    </tr>\n",
       "    <tr>\n",
       "      <th>DT</th>\n",
       "      <td>0.000000e+00</td>\n",
       "      <td>1.666500e+03</td>\n",
       "    </tr>\n",
       "    <tr>\n",
       "      <th>KNN</th>\n",
       "      <td>5.842172e-02</td>\n",
       "      <td>1.548718e+03</td>\n",
       "    </tr>\n",
       "    <tr>\n",
       "      <th>LR</th>\n",
       "      <td>1.893557e-27</td>\n",
       "      <td>1.867586e-26</td>\n",
       "    </tr>\n",
       "  </tbody>\n",
       "</table>\n",
       "</div>"
      ],
      "text/plain": [
       "      Train Score    Test Score\n",
       "XGB  1.183115e+01  1.670830e+03\n",
       "AB   6.306760e+01  1.666639e+03\n",
       "RF   8.898902e-03  1.666502e+03\n",
       "DT   0.000000e+00  1.666500e+03\n",
       "KNN  5.842172e-02  1.548718e+03\n",
       "LR   1.893557e-27  1.867586e-26"
      ]
     },
     "execution_count": 9,
     "metadata": {},
     "output_type": "execute_result"
    }
   ],
   "source": [
    "subtract_df_score.sort_values(by='Test Score', ascending=False)"
   ]
  },
  {
   "cell_type": "code",
   "execution_count": 39,
   "id": "32d54811",
   "metadata": {
    "ExecuteTime": {
     "end_time": "2021-10-18T11:48:29.033452Z",
     "start_time": "2021-10-18T11:48:24.199509Z"
    }
   },
   "outputs": [
    {
     "name": "stdout",
     "output_type": "stream",
     "text": [
      "Enter the number, split by whitespace: 1234 5678\n",
      "Enter the model, Available models: [AB, XGB, KNN, RF, DT, LR]: LR\n",
      "Predicted: -4443.999999999992, Real: -4444.0\n",
      "Mean Squared Error: 6.700162961679524e-23\n"
     ]
    }
   ],
   "source": [
    "input_num = list(\n",
    "    map(float, input(\"Enter the number, split by whitespace: \").split()))\n",
    "input_model = input(\n",
    "    \"Enter the model, Available models: [AB, XGB, KNN, RF, DT, LR]: \")\n",
    "\n",
    "example_predict_subtract = get_predict(\n",
    "    X=X_subtract, y=y_subtract, data=[input_num], model_name=input_model)\n",
    "print(f\"Predicted: {example_predict_subtract[0]}, Real: {input_num[0]-input_num[1]}\")\n",
    "print(\n",
    "    f\"Mean Squared Error: {mean_squared_error(example_predict_subtract, [input_num[0]-input_num[1]])}\")"
   ]
  },
  {
   "cell_type": "markdown",
   "id": "6eacf481",
   "metadata": {},
   "source": [
    "## Divide"
   ]
  },
  {
   "cell_type": "code",
   "execution_count": 10,
   "id": "85bb07fc",
   "metadata": {
    "ExecuteTime": {
     "end_time": "2021-10-18T11:25:52.759513Z",
     "start_time": "2021-10-18T11:25:52.740514Z"
    }
   },
   "outputs": [
    {
     "data": {
      "text/html": [
       "<div>\n",
       "<style scoped>\n",
       "    .dataframe tbody tr th:only-of-type {\n",
       "        vertical-align: middle;\n",
       "    }\n",
       "\n",
       "    .dataframe tbody tr th {\n",
       "        vertical-align: top;\n",
       "    }\n",
       "\n",
       "    .dataframe thead th {\n",
       "        text-align: right;\n",
       "    }\n",
       "</style>\n",
       "<table border=\"1\" class=\"dataframe\">\n",
       "  <thead>\n",
       "    <tr style=\"text-align: right;\">\n",
       "      <th></th>\n",
       "      <th>Train Score</th>\n",
       "      <th>Test Score</th>\n",
       "    </tr>\n",
       "  </thead>\n",
       "  <tbody>\n",
       "    <tr>\n",
       "      <th>LR</th>\n",
       "      <td>38.186516</td>\n",
       "      <td>17.885954</td>\n",
       "    </tr>\n",
       "    <tr>\n",
       "      <th>XGB</th>\n",
       "      <td>11.648959</td>\n",
       "      <td>3.705227</td>\n",
       "    </tr>\n",
       "    <tr>\n",
       "      <th>AB</th>\n",
       "      <td>2.021235</td>\n",
       "      <td>0.635014</td>\n",
       "    </tr>\n",
       "    <tr>\n",
       "      <th>DT</th>\n",
       "      <td>0.000000</td>\n",
       "      <td>0.086536</td>\n",
       "    </tr>\n",
       "    <tr>\n",
       "      <th>RF</th>\n",
       "      <td>0.001317</td>\n",
       "      <td>0.086533</td>\n",
       "    </tr>\n",
       "    <tr>\n",
       "      <th>KNN</th>\n",
       "      <td>3.102462</td>\n",
       "      <td>0.077804</td>\n",
       "    </tr>\n",
       "  </tbody>\n",
       "</table>\n",
       "</div>"
      ],
      "text/plain": [
       "     Train Score  Test Score\n",
       "LR     38.186516   17.885954\n",
       "XGB    11.648959    3.705227\n",
       "AB      2.021235    0.635014\n",
       "DT      0.000000    0.086536\n",
       "RF      0.001317    0.086533\n",
       "KNN     3.102462    0.077804"
      ]
     },
     "execution_count": 10,
     "metadata": {},
     "output_type": "execute_result"
    }
   ],
   "source": [
    "divide_df_score.sort_values(by='Test Score', ascending=False)"
   ]
  },
  {
   "cell_type": "code",
   "execution_count": 42,
   "id": "a86ddc67",
   "metadata": {
    "ExecuteTime": {
     "end_time": "2021-10-18T11:49:18.020411Z",
     "start_time": "2021-10-18T11:49:14.725046Z"
    }
   },
   "outputs": [
    {
     "name": "stdout",
     "output_type": "stream",
     "text": [
      "Enter the number, split by whitespace: 123 456\n",
      "Enter the model, Available models: [AB, XGB, KNN, RF, DT, LR]: KNN\n",
      "Predicted: 0.9550000000000001, Real: 0.26973684210526316\n",
      "Mean Squared Error: 0.4695855955678671\n"
     ]
    }
   ],
   "source": [
    "input_num = list(\n",
    "    map(float, input(\"Enter the number, split by whitespace: \").split()))\n",
    "input_model = input(\n",
    "    \"Enter the model, Available models: [AB, XGB, KNN, RF, DT, LR]: \")\n",
    "\n",
    "example_predict_divide = get_predict(\n",
    "    X=X_divide, y=y_divide, data=[input_num], model_name=input_model)\n",
    "print(f\"Predicted: {example_predict_divide[0]}, Real: {input_num[0]/input_num[1]}\")\n",
    "print(\n",
    "    f\"Mean Squared Error: {mean_squared_error(example_predict_divide, [input_num[0]/input_num[1]])}\")"
   ]
  },
  {
   "cell_type": "markdown",
   "id": "b8f43195",
   "metadata": {},
   "source": [
    "# Using NN"
   ]
  },
  {
   "cell_type": "code",
   "execution_count": 8,
   "id": "7Qrn8mohtPxl",
   "metadata": {
    "colab": {
     "base_uri": "https://localhost:8080/"
    },
    "id": "7Qrn8mohtPxl",
    "outputId": "07111019-08d2-474a-9986-25fc6a2229df"
   },
   "outputs": [
    {
     "name": "stdout",
     "output_type": "stream",
     "text": [
      "Epoch 1/50\n",
      "255/255 [==============================] - 1s 2ms/step - loss: 19.8609 - val_loss: 6.3359\n",
      "Epoch 2/50\n",
      "255/255 [==============================] - 0s 1ms/step - loss: 0.3264 - val_loss: 0.1552\n",
      "Epoch 3/50\n",
      "255/255 [==============================] - 0s 1ms/step - loss: 0.0649 - val_loss: 0.2151\n",
      "Epoch 4/50\n",
      "255/255 [==============================] - 0s 1ms/step - loss: 0.0627 - val_loss: 0.0522\n",
      "Epoch 5/50\n",
      "255/255 [==============================] - 0s 1ms/step - loss: 0.0550 - val_loss: 0.3109\n",
      "Epoch 6/50\n",
      "255/255 [==============================] - 0s 1ms/step - loss: 0.0436 - val_loss: 0.0352\n",
      "Epoch 7/50\n",
      "255/255 [==============================] - 0s 1ms/step - loss: 0.0453 - val_loss: 0.1153\n",
      "Epoch 8/50\n",
      "255/255 [==============================] - 0s 1ms/step - loss: 0.0624 - val_loss: 0.1291\n",
      "Epoch 9/50\n",
      "255/255 [==============================] - 0s 1ms/step - loss: 0.0789 - val_loss: 0.2743\n",
      "Epoch 10/50\n",
      "255/255 [==============================] - 0s 1ms/step - loss: 0.0554 - val_loss: 0.1290\n",
      "Epoch 11/50\n",
      "255/255 [==============================] - 0s 1ms/step - loss: 0.0541 - val_loss: 0.0194\n",
      "Epoch 12/50\n",
      "255/255 [==============================] - 0s 1ms/step - loss: 0.0556 - val_loss: 0.0850\n",
      "Epoch 13/50\n",
      "255/255 [==============================] - 0s 1ms/step - loss: 0.0580 - val_loss: 0.1440\n",
      "Epoch 14/50\n",
      "255/255 [==============================] - 0s 1ms/step - loss: 0.0641 - val_loss: 0.0322\n",
      "Epoch 15/50\n",
      "255/255 [==============================] - 0s 1ms/step - loss: 0.0504 - val_loss: 0.1091\n",
      "Epoch 16/50\n",
      "255/255 [==============================] - 0s 1ms/step - loss: 0.0565 - val_loss: 0.0412\n"
     ]
    },
    {
     "data": {
      "text/plain": [
       "<keras.callbacks.History at 0x7fc8a5b60950>"
      ]
     },
     "execution_count": 8,
     "metadata": {},
     "output_type": "execute_result"
    }
   ],
   "source": [
    "import tensorflow as tf\n",
    "\n",
    "model_add = tf.keras.Sequential()\n",
    "model_add.add(tf.keras.layers.Dense(8, input_shape=[2]))\n",
    "#model_add.add(tf.keras.layers.Dense(8))\n",
    "model_add.add(tf.keras.layers.Dense(1))\n",
    "\n",
    "model_add.compile(loss='mae', optimizer='adam',)\n",
    "\n",
    "early_stopping = tf.keras.callbacks.EarlyStopping(monitor='val_loss', patience=5)\n",
    "save_best = tf.keras.callbacks.ModelCheckpoint('addition.h5', monitor='val_loss', save_best_only=True, mode='min')\n",
    "\n",
    "model_add.fit(X_add, y_add, epochs=50, verbose=1, validation_split=.2, callbacks=[early_stopping, save_best])"
   ]
  },
  {
   "cell_type": "code",
   "execution_count": 9,
   "id": "gWhv4DsB7LEE",
   "metadata": {
    "colab": {
     "base_uri": "https://localhost:8080/"
    },
    "id": "gWhv4DsB7LEE",
    "outputId": "e96d09f2-ab3c-4c5c-e8e0-3edf8f4eb0b0"
   },
   "outputs": [
    {
     "name": "stdout",
     "output_type": "stream",
     "text": [
      "17+17 => Predicted: 34.00651550292969, Real: 34\n",
      "17+18 => Predicted: 35.008121490478516, Real: 35\n",
      "17+19 => Predicted: 36.00971984863281, Real: 36\n",
      "17+20 => Predicted: 37.011322021484375, Real: 37\n",
      "17+21 => Predicted: 38.0129280090332, Real: 38\n",
      "17+22 => Predicted: 39.01453399658203, Real: 39\n",
      "17+23 => Predicted: 40.01613235473633, Real: 40\n",
      "18+17 => Predicted: 35.005615234375, Real: 35\n",
      "18+18 => Predicted: 36.00722122192383, Real: 36\n",
      "18+19 => Predicted: 37.008819580078125, Real: 37\n",
      "18+20 => Predicted: 38.01042556762695, Real: 38\n",
      "18+21 => Predicted: 39.012027740478516, Real: 39\n",
      "18+22 => Predicted: 40.01362991333008, Real: 40\n",
      "18+23 => Predicted: 41.015235900878906, Real: 41\n",
      "19+17 => Predicted: 36.00471496582031, Real: 36\n",
      "19+18 => Predicted: 37.006317138671875, Real: 37\n",
      "19+19 => Predicted: 38.0079231262207, Real: 38\n",
      "19+20 => Predicted: 39.009525299072266, Real: 39\n",
      "19+21 => Predicted: 40.01112747192383, Real: 40\n",
      "19+22 => Predicted: 41.012725830078125, Real: 41\n",
      "19+23 => Predicted: 42.01433181762695, Real: 42\n",
      "20+17 => Predicted: 37.00381088256836, Real: 37\n",
      "20+18 => Predicted: 38.00541687011719, Real: 38\n",
      "20+19 => Predicted: 39.00701904296875, Real: 39\n",
      "20+20 => Predicted: 40.00862121582031, Real: 40\n",
      "20+21 => Predicted: 41.01022720336914, Real: 41\n",
      "20+22 => Predicted: 42.01182556152344, Real: 42\n",
      "20+23 => Predicted: 43.01343536376953, Real: 43\n",
      "21+17 => Predicted: 38.00291061401367, Real: 38\n",
      "21+18 => Predicted: 39.0045166015625, Real: 39\n",
      "21+19 => Predicted: 40.00611877441406, Real: 40\n",
      "21+20 => Predicted: 41.007720947265625, Real: 41\n",
      "21+21 => Predicted: 42.00932312011719, Real: 42\n",
      "21+22 => Predicted: 43.01092529296875, Real: 43\n",
      "21+23 => Predicted: 44.01253128051758, Real: 44\n",
      "22+17 => Predicted: 39.002010345458984, Real: 39\n",
      "22+18 => Predicted: 40.00361251831055, Real: 40\n",
      "22+19 => Predicted: 41.005218505859375, Real: 41\n",
      "22+20 => Predicted: 42.00681686401367, Real: 42\n",
      "22+21 => Predicted: 43.0084228515625, Real: 43\n",
      "22+22 => Predicted: 44.01002502441406, Real: 44\n",
      "22+23 => Predicted: 45.01163101196289, Real: 45\n",
      "23+17 => Predicted: 40.0011100769043, Real: 40\n",
      "23+18 => Predicted: 41.00271224975586, Real: 41\n",
      "23+19 => Predicted: 42.00431823730469, Real: 42\n",
      "23+20 => Predicted: 43.00592041015625, Real: 43\n",
      "23+21 => Predicted: 44.00752258300781, Real: 44\n",
      "23+22 => Predicted: 45.009124755859375, Real: 45\n",
      "23+23 => Predicted: 46.01072692871094, Real: 46\n"
     ]
    }
   ],
   "source": [
    "for i in range(17, 24):\n",
    "    for j in range(17, 24):\n",
    "        pred = model_add.predict([[i,j]])[0][0]\n",
    "        #pred = scaler.inverse_transform(pred.reshape(1,-1))\n",
    "        print(f\"{i}+{j} => Predicted: {pred}, Real: {i+j}\")"
   ]
  },
  {
   "cell_type": "code",
   "execution_count": 10,
   "id": "eef1a117",
   "metadata": {
    "ExecuteTime": {
     "end_time": "2021-10-13T05:08:54.416231Z",
     "start_time": "2021-10-13T05:05:42.086552Z"
    },
    "colab": {
     "base_uri": "https://localhost:8080/"
    },
    "id": "eef1a117",
    "outputId": "b1f25bc8-09a9-425c-cb13-09e2435be64c"
   },
   "outputs": [
    {
     "name": "stdout",
     "output_type": "stream",
     "text": [
      "Epoch 1/50\n",
      "255/255 [==============================] - 1s 2ms/step - loss: 12.7753 - val_loss: 0.1552\n",
      "Epoch 2/50\n",
      "255/255 [==============================] - 0s 1ms/step - loss: 0.0842 - val_loss: 0.0925\n",
      "Epoch 3/50\n",
      "255/255 [==============================] - 0s 1ms/step - loss: 0.0545 - val_loss: 0.1669\n",
      "Epoch 4/50\n",
      "255/255 [==============================] - 0s 1ms/step - loss: 0.0501 - val_loss: 0.0790\n",
      "Epoch 5/50\n",
      "255/255 [==============================] - 0s 2ms/step - loss: 0.0448 - val_loss: 0.0914\n",
      "Epoch 6/50\n",
      "255/255 [==============================] - 0s 1ms/step - loss: 0.0488 - val_loss: 0.2242\n",
      "Epoch 7/50\n",
      "255/255 [==============================] - 0s 1ms/step - loss: 0.0546 - val_loss: 0.0407\n",
      "Epoch 8/50\n",
      "255/255 [==============================] - 0s 1ms/step - loss: 0.0430 - val_loss: 0.0999\n",
      "Epoch 9/50\n",
      "255/255 [==============================] - 0s 1ms/step - loss: 0.0580 - val_loss: 0.0641\n",
      "Epoch 10/50\n",
      "255/255 [==============================] - 0s 1ms/step - loss: 0.0415 - val_loss: 0.0322\n",
      "Epoch 11/50\n",
      "255/255 [==============================] - 0s 1ms/step - loss: 0.0602 - val_loss: 0.0606\n",
      "Epoch 12/50\n",
      "255/255 [==============================] - 0s 1ms/step - loss: 0.0438 - val_loss: 0.0141\n",
      "Epoch 13/50\n",
      "255/255 [==============================] - 0s 1ms/step - loss: 0.0531 - val_loss: 0.0535\n",
      "Epoch 14/50\n",
      "255/255 [==============================] - 0s 1ms/step - loss: 0.0532 - val_loss: 0.0488\n",
      "Epoch 15/50\n",
      "255/255 [==============================] - 0s 1ms/step - loss: 0.0470 - val_loss: 0.1609\n",
      "Epoch 16/50\n",
      "255/255 [==============================] - 0s 1ms/step - loss: 0.0454 - val_loss: 0.0442\n",
      "Epoch 17/50\n",
      "255/255 [==============================] - 0s 1ms/step - loss: 0.0499 - val_loss: 0.0406\n"
     ]
    },
    {
     "data": {
      "text/plain": [
       "<keras.callbacks.History at 0x7fc8a5a66210>"
      ]
     },
     "execution_count": 10,
     "metadata": {},
     "output_type": "execute_result"
    }
   ],
   "source": [
    "import tensorflow as tf\n",
    "\n",
    "model_subtract = tf.keras.Sequential()\n",
    "model_subtract.add(tf.keras.layers.Dense(8, input_shape=[2]))\n",
    "#model_subtract.add(tf.keras.layers.Dense(8))\n",
    "model_subtract.add(tf.keras.layers.Dense(1))\n",
    "\n",
    "model_subtract.compile(loss='mae', optimizer='adam',)\n",
    "\n",
    "early_stopping = tf.keras.callbacks.EarlyStopping(monitor='val_loss', patience=5)\n",
    "save_best = tf.keras.callbacks.ModelCheckpoint('substraction.h5', monitor='val_loss', save_best_only=True, mode='min')\n",
    "\n",
    "model_subtract.fit(X_subtract, y_subtract, epochs=50, verbose=1, validation_split=.2, callbacks=[early_stopping, save_best])"
   ]
  },
  {
   "cell_type": "code",
   "execution_count": 11,
   "id": "sGHYxQHA-OnI",
   "metadata": {
    "colab": {
     "base_uri": "https://localhost:8080/"
    },
    "id": "sGHYxQHA-OnI",
    "outputId": "0976ecdf-afa3-4eee-cb20-db38beb48089"
   },
   "outputs": [
    {
     "name": "stdout",
     "output_type": "stream",
     "text": [
      "17-17 => Predicted: 0.016195349395275116, Real: 0\n",
      "17-18 => Predicted: -0.9825348854064941, Real: -1\n",
      "17-19 => Predicted: -1.9812655448913574, Real: -2\n",
      "17-20 => Predicted: -2.9800004959106445, Real: -3\n",
      "17-21 => Predicted: -3.978732109069824, Real: -4\n",
      "17-22 => Predicted: -4.977464199066162, Real: -5\n",
      "17-23 => Predicted: -5.976193904876709, Real: -6\n",
      "18-17 => Predicted: 1.0158451795578003, Real: 1\n",
      "18-18 => Predicted: 0.017113348469138145, Real: 0\n",
      "18-19 => Predicted: -0.9816192388534546, Real: -1\n",
      "18-20 => Predicted: -1.9803494215011597, Real: -2\n",
      "18-21 => Predicted: -2.979081153869629, Real: -3\n",
      "18-22 => Predicted: -3.9778146743774414, Real: -4\n",
      "18-23 => Predicted: -4.976545333862305, Real: -5\n",
      "19-17 => Predicted: 2.015493392944336, Real: 2\n",
      "19-18 => Predicted: 1.016762137413025, Real: 1\n",
      "19-19 => Predicted: 0.01803048886358738, Real: 0\n",
      "19-20 => Predicted: -0.9807021021842957, Real: -1\n",
      "19-21 => Predicted: -1.979433298110962, Real: -2\n",
      "19-22 => Predicted: -2.978163957595825, Real: -3\n",
      "19-23 => Predicted: -3.9768974781036377, Real: -4\n",
      "20-17 => Predicted: 3.0151402950286865, Real: 3\n",
      "20-18 => Predicted: 2.016411781311035, Real: 2\n",
      "20-19 => Predicted: 1.0176788568496704, Real: 1\n",
      "20-20 => Predicted: 0.018946198746562004, Real: 0\n",
      "20-21 => Predicted: -0.9797835350036621, Real: -1\n",
      "20-22 => Predicted: -1.9785146713256836, Real: -2\n",
      "20-23 => Predicted: -2.977247714996338, Real: -3\n",
      "21-17 => Predicted: 4.014791965484619, Real: 4\n",
      "21-18 => Predicted: 3.0160608291625977, Real: 3\n",
      "21-19 => Predicted: 2.0173275470733643, Real: 2\n",
      "21-20 => Predicted: 1.0185948610305786, Real: 1\n",
      "21-21 => Predicted: 0.01986515335738659, Real: 0\n",
      "21-22 => Predicted: -0.9788655042648315, Real: -1\n",
      "21-23 => Predicted: -1.9775985479354858, Real: -2\n",
      "22-17 => Predicted: 5.014439582824707, Real: 5\n",
      "22-18 => Predicted: 4.015708923339844, Real: 4\n",
      "22-19 => Predicted: 3.016977310180664, Real: 3\n",
      "22-20 => Predicted: 2.018244743347168, Real: 2\n",
      "22-21 => Predicted: 1.019513487815857, Real: 1\n",
      "22-22 => Predicted: 0.02078038640320301, Real: 0\n",
      "22-23 => Predicted: -0.9779526591300964, Real: -1\n",
      "23-17 => Predicted: 6.014087677001953, Real: 6\n",
      "23-18 => Predicted: 5.0153584480285645, Real: 5\n",
      "23-19 => Predicted: 4.016626834869385, Real: 4\n",
      "23-20 => Predicted: 3.017892360687256, Real: 3\n",
      "23-21 => Predicted: 2.0191612243652344, Real: 2\n",
      "23-22 => Predicted: 1.020430088043213, Real: 1\n",
      "23-23 => Predicted: 0.021698957309126854, Real: 0\n"
     ]
    }
   ],
   "source": [
    "for i in range(17, 24):\n",
    "    for j in range(17, 24):\n",
    "        print(f\"{i}-{j} => Predicted: {model_subtract.predict([[i,j]])[0][0]}, Real: {i-j}\")"
   ]
  },
  {
   "cell_type": "code",
   "execution_count": 12,
   "id": "c3f07fdf",
   "metadata": {
    "ExecuteTime": {
     "end_time": "2021-10-13T05:08:54.422210Z",
     "start_time": "2021-10-13T05:05:43.472Z"
    },
    "colab": {
     "base_uri": "https://localhost:8080/"
    },
    "id": "c3f07fdf",
    "outputId": "7127e720-c4f8-4534-f9e2-a5abe1b5f3fc"
   },
   "outputs": [
    {
     "name": "stdout",
     "output_type": "stream",
     "text": [
      "Epoch 1/500\n",
      "255/255 [==============================] - 1s 3ms/step - loss: 1858.6505 - val_loss: 3504.1089\n",
      "Epoch 2/500\n",
      "255/255 [==============================] - 1s 2ms/step - loss: 892.9670 - val_loss: 1945.2894\n",
      "Epoch 3/500\n",
      "255/255 [==============================] - 1s 2ms/step - loss: 763.8658 - val_loss: 1801.8743\n",
      "Epoch 4/500\n",
      "255/255 [==============================] - 1s 3ms/step - loss: 642.9844 - val_loss: 1593.0198\n",
      "Epoch 5/500\n",
      "255/255 [==============================] - 1s 2ms/step - loss: 443.1501 - val_loss: 1349.6393\n",
      "Epoch 6/500\n",
      "255/255 [==============================] - 1s 2ms/step - loss: 398.3863 - val_loss: 1210.0911\n",
      "Epoch 7/500\n",
      "255/255 [==============================] - 1s 2ms/step - loss: 393.0741 - val_loss: 1304.4370\n",
      "Epoch 8/500\n",
      "255/255 [==============================] - 1s 2ms/step - loss: 388.6990 - val_loss: 1300.7354\n",
      "Epoch 9/500\n",
      "255/255 [==============================] - 1s 2ms/step - loss: 386.0539 - val_loss: 1298.8273\n",
      "Epoch 10/500\n",
      "255/255 [==============================] - 1s 2ms/step - loss: 382.1850 - val_loss: 1328.7749\n",
      "Epoch 11/500\n",
      "255/255 [==============================] - 1s 2ms/step - loss: 376.8324 - val_loss: 1311.0249\n",
      "Epoch 12/500\n",
      "255/255 [==============================] - 1s 2ms/step - loss: 373.1000 - val_loss: 1260.8491\n",
      "Epoch 13/500\n",
      "255/255 [==============================] - 1s 3ms/step - loss: 368.7874 - val_loss: 1231.6301\n",
      "Epoch 14/500\n",
      "255/255 [==============================] - 1s 2ms/step - loss: 363.7711 - val_loss: 1178.5746\n",
      "Epoch 15/500\n",
      "255/255 [==============================] - 1s 2ms/step - loss: 359.7426 - val_loss: 1138.4406\n",
      "Epoch 16/500\n",
      "255/255 [==============================] - 1s 2ms/step - loss: 353.9676 - val_loss: 1143.0244\n",
      "Epoch 17/500\n",
      "255/255 [==============================] - 1s 2ms/step - loss: 348.5408 - val_loss: 1129.6779\n",
      "Epoch 18/500\n",
      "255/255 [==============================] - 1s 2ms/step - loss: 342.5282 - val_loss: 1140.0997\n",
      "Epoch 19/500\n",
      "255/255 [==============================] - 1s 2ms/step - loss: 335.5384 - val_loss: 1206.3431\n",
      "Epoch 20/500\n",
      "255/255 [==============================] - 1s 2ms/step - loss: 328.3460 - val_loss: 1098.2030\n",
      "Epoch 21/500\n",
      "255/255 [==============================] - 1s 2ms/step - loss: 319.0549 - val_loss: 1116.7489\n",
      "Epoch 22/500\n",
      "255/255 [==============================] - 1s 3ms/step - loss: 308.4405 - val_loss: 1036.1167\n",
      "Epoch 23/500\n",
      "255/255 [==============================] - 1s 2ms/step - loss: 296.6859 - val_loss: 1055.6816\n",
      "Epoch 24/500\n",
      "255/255 [==============================] - 1s 3ms/step - loss: 283.2809 - val_loss: 941.2195\n",
      "Epoch 25/500\n",
      "255/255 [==============================] - 1s 3ms/step - loss: 267.2126 - val_loss: 956.1836\n",
      "Epoch 26/500\n",
      "255/255 [==============================] - 1s 3ms/step - loss: 248.8429 - val_loss: 1016.1183\n",
      "Epoch 27/500\n",
      "255/255 [==============================] - 1s 2ms/step - loss: 229.0719 - val_loss: 926.9040\n",
      "Epoch 28/500\n",
      "255/255 [==============================] - 1s 2ms/step - loss: 206.4051 - val_loss: 818.7645\n",
      "Epoch 29/500\n",
      "255/255 [==============================] - 1s 2ms/step - loss: 182.3861 - val_loss: 700.5591\n",
      "Epoch 30/500\n",
      "255/255 [==============================] - 1s 2ms/step - loss: 165.2821 - val_loss: 718.7797\n",
      "Epoch 31/500\n",
      "255/255 [==============================] - 1s 2ms/step - loss: 148.0792 - val_loss: 559.7719\n",
      "Epoch 32/500\n",
      "255/255 [==============================] - 1s 2ms/step - loss: 133.3059 - val_loss: 579.4130\n",
      "Epoch 33/500\n",
      "255/255 [==============================] - 1s 2ms/step - loss: 116.5442 - val_loss: 524.4408\n",
      "Epoch 34/500\n",
      "255/255 [==============================] - 1s 2ms/step - loss: 102.8618 - val_loss: 535.7800\n",
      "Epoch 35/500\n",
      "255/255 [==============================] - 1s 2ms/step - loss: 82.8188 - val_loss: 364.7378\n",
      "Epoch 36/500\n",
      "255/255 [==============================] - 1s 2ms/step - loss: 61.5776 - val_loss: 372.1665\n",
      "Epoch 37/500\n",
      "255/255 [==============================] - 1s 2ms/step - loss: 50.1668 - val_loss: 387.5592\n",
      "Epoch 38/500\n",
      "255/255 [==============================] - 1s 2ms/step - loss: 41.4193 - val_loss: 280.1372\n",
      "Epoch 39/500\n",
      "255/255 [==============================] - 1s 3ms/step - loss: 35.2238 - val_loss: 268.7802\n",
      "Epoch 40/500\n",
      "255/255 [==============================] - 1s 2ms/step - loss: 31.3206 - val_loss: 281.0804\n",
      "Epoch 41/500\n",
      "255/255 [==============================] - 1s 3ms/step - loss: 27.2716 - val_loss: 188.9575\n",
      "Epoch 42/500\n",
      "255/255 [==============================] - 1s 2ms/step - loss: 24.8887 - val_loss: 200.2435\n",
      "Epoch 43/500\n",
      "255/255 [==============================] - 1s 3ms/step - loss: 22.3759 - val_loss: 161.2112\n",
      "Epoch 44/500\n",
      "255/255 [==============================] - 1s 3ms/step - loss: 25.2071 - val_loss: 185.6233\n",
      "Epoch 45/500\n",
      "255/255 [==============================] - 1s 3ms/step - loss: 20.0247 - val_loss: 166.4637\n",
      "Epoch 46/500\n",
      "255/255 [==============================] - 1s 2ms/step - loss: 19.1768 - val_loss: 175.0613\n",
      "Epoch 47/500\n",
      "255/255 [==============================] - 1s 2ms/step - loss: 18.4038 - val_loss: 179.6380\n",
      "Epoch 48/500\n",
      "255/255 [==============================] - 1s 2ms/step - loss: 18.8217 - val_loss: 208.5466\n",
      "Epoch 49/500\n",
      "255/255 [==============================] - 1s 2ms/step - loss: 15.4701 - val_loss: 150.1032\n",
      "Epoch 50/500\n",
      "255/255 [==============================] - 1s 3ms/step - loss: 14.9599 - val_loss: 173.5329\n",
      "Epoch 51/500\n",
      "255/255 [==============================] - 1s 2ms/step - loss: 15.3332 - val_loss: 147.9987\n",
      "Epoch 52/500\n",
      "255/255 [==============================] - 1s 2ms/step - loss: 15.3913 - val_loss: 165.3969\n",
      "Epoch 53/500\n",
      "255/255 [==============================] - 1s 2ms/step - loss: 14.7093 - val_loss: 110.5082\n",
      "Epoch 54/500\n",
      "255/255 [==============================] - 1s 2ms/step - loss: 13.3616 - val_loss: 148.6795\n",
      "Epoch 55/500\n",
      "255/255 [==============================] - 1s 2ms/step - loss: 13.4372 - val_loss: 143.0067\n",
      "Epoch 56/500\n",
      "255/255 [==============================] - 1s 2ms/step - loss: 14.2088 - val_loss: 122.3688\n",
      "Epoch 57/500\n",
      "255/255 [==============================] - 1s 2ms/step - loss: 13.0886 - val_loss: 158.4717\n",
      "Epoch 58/500\n",
      "255/255 [==============================] - 1s 2ms/step - loss: 12.8907 - val_loss: 139.3554\n",
      "Epoch 59/500\n",
      "255/255 [==============================] - 1s 2ms/step - loss: 12.9387 - val_loss: 146.0390\n",
      "Epoch 60/500\n",
      "255/255 [==============================] - 1s 2ms/step - loss: 12.4999 - val_loss: 199.5257\n",
      "Epoch 61/500\n",
      "255/255 [==============================] - 1s 2ms/step - loss: 10.8292 - val_loss: 109.7386\n",
      "Epoch 62/500\n",
      "255/255 [==============================] - 1s 2ms/step - loss: 10.6391 - val_loss: 114.1529\n",
      "Epoch 63/500\n",
      "255/255 [==============================] - 1s 3ms/step - loss: 12.1977 - val_loss: 116.4563\n",
      "Epoch 64/500\n",
      "255/255 [==============================] - 1s 3ms/step - loss: 9.9483 - val_loss: 102.4978\n",
      "Epoch 65/500\n",
      "255/255 [==============================] - 1s 2ms/step - loss: 10.7672 - val_loss: 128.4818\n",
      "Epoch 66/500\n",
      "255/255 [==============================] - 1s 2ms/step - loss: 9.8505 - val_loss: 126.2488\n",
      "Epoch 67/500\n",
      "255/255 [==============================] - 1s 2ms/step - loss: 10.0764 - val_loss: 90.7889\n",
      "Epoch 68/500\n",
      "255/255 [==============================] - 1s 2ms/step - loss: 12.1438 - val_loss: 100.4125\n",
      "Epoch 69/500\n",
      "255/255 [==============================] - 1s 2ms/step - loss: 9.1836 - val_loss: 98.7585\n",
      "Epoch 70/500\n",
      "255/255 [==============================] - 1s 2ms/step - loss: 9.5138 - val_loss: 98.4529\n",
      "Epoch 71/500\n",
      "255/255 [==============================] - 1s 3ms/step - loss: 12.3504 - val_loss: 127.0956\n",
      "Epoch 72/500\n",
      "255/255 [==============================] - 1s 2ms/step - loss: 10.8814 - val_loss: 91.3962\n",
      "Epoch 73/500\n",
      "255/255 [==============================] - 1s 2ms/step - loss: 9.8224 - val_loss: 95.8562\n",
      "Epoch 74/500\n",
      "255/255 [==============================] - 1s 2ms/step - loss: 9.1252 - val_loss: 93.7493\n",
      "Epoch 75/500\n",
      "255/255 [==============================] - 1s 2ms/step - loss: 9.3514 - val_loss: 124.0470\n",
      "Epoch 76/500\n",
      "255/255 [==============================] - 1s 3ms/step - loss: 9.4096 - val_loss: 95.8251\n",
      "Epoch 77/500\n",
      "255/255 [==============================] - 1s 2ms/step - loss: 9.3273 - val_loss: 77.5009\n",
      "Epoch 78/500\n",
      "255/255 [==============================] - 1s 2ms/step - loss: 14.3175 - val_loss: 107.5312\n",
      "Epoch 79/500\n",
      "255/255 [==============================] - 1s 2ms/step - loss: 10.2689 - val_loss: 85.3082\n",
      "Epoch 80/500\n",
      "255/255 [==============================] - 1s 3ms/step - loss: 9.6183 - val_loss: 77.2364\n",
      "Epoch 81/500\n",
      "255/255 [==============================] - 1s 2ms/step - loss: 10.3929 - val_loss: 120.2781\n",
      "Epoch 82/500\n",
      "255/255 [==============================] - 1s 3ms/step - loss: 9.4976 - val_loss: 94.0262\n",
      "Epoch 83/500\n",
      "255/255 [==============================] - 1s 2ms/step - loss: 9.0072 - val_loss: 81.1745\n",
      "Epoch 84/500\n",
      "255/255 [==============================] - 1s 3ms/step - loss: 8.1305 - val_loss: 94.4245\n",
      "Epoch 85/500\n",
      "255/255 [==============================] - 1s 3ms/step - loss: 9.5455 - val_loss: 80.4261\n",
      "Epoch 86/500\n",
      "255/255 [==============================] - 1s 3ms/step - loss: 9.0793 - val_loss: 94.0054\n",
      "Epoch 87/500\n",
      "255/255 [==============================] - 1s 3ms/step - loss: 8.5337 - val_loss: 95.7175\n",
      "Epoch 88/500\n",
      "255/255 [==============================] - 1s 3ms/step - loss: 10.3881 - val_loss: 69.9143\n",
      "Epoch 89/500\n",
      "255/255 [==============================] - 1s 3ms/step - loss: 10.6316 - val_loss: 104.8891\n",
      "Epoch 90/500\n",
      "255/255 [==============================] - 1s 3ms/step - loss: 11.4776 - val_loss: 72.1679\n",
      "Epoch 91/500\n",
      "255/255 [==============================] - 1s 3ms/step - loss: 9.0101 - val_loss: 69.6355\n",
      "Epoch 92/500\n",
      "255/255 [==============================] - 1s 2ms/step - loss: 9.1273 - val_loss: 97.1259\n",
      "Epoch 93/500\n",
      "255/255 [==============================] - 1s 3ms/step - loss: 8.6470 - val_loss: 96.7971\n",
      "Epoch 94/500\n",
      "255/255 [==============================] - 1s 3ms/step - loss: 8.2674 - val_loss: 93.8057\n",
      "Epoch 95/500\n",
      "255/255 [==============================] - 1s 3ms/step - loss: 8.4379 - val_loss: 91.3027\n",
      "Epoch 96/500\n",
      "255/255 [==============================] - 1s 3ms/step - loss: 8.6982 - val_loss: 75.5167\n",
      "Epoch 97/500\n",
      "255/255 [==============================] - 1s 3ms/step - loss: 8.8695 - val_loss: 60.0821\n",
      "Epoch 98/500\n",
      "255/255 [==============================] - 1s 3ms/step - loss: 10.1504 - val_loss: 103.3533\n",
      "Epoch 99/500\n",
      "255/255 [==============================] - 1s 3ms/step - loss: 10.9138 - val_loss: 99.1152\n",
      "Epoch 100/500\n",
      "255/255 [==============================] - 1s 3ms/step - loss: 9.8856 - val_loss: 62.8583\n",
      "Epoch 101/500\n",
      "255/255 [==============================] - 1s 2ms/step - loss: 8.9813 - val_loss: 59.7681\n",
      "Epoch 102/500\n",
      "255/255 [==============================] - 1s 3ms/step - loss: 9.6135 - val_loss: 63.0779\n",
      "Epoch 103/500\n",
      "255/255 [==============================] - 1s 2ms/step - loss: 9.5846 - val_loss: 91.3151\n",
      "Epoch 104/500\n",
      "255/255 [==============================] - 1s 2ms/step - loss: 9.4942 - val_loss: 84.3217\n",
      "Epoch 105/500\n",
      "255/255 [==============================] - 1s 3ms/step - loss: 7.9204 - val_loss: 62.3585\n",
      "Epoch 106/500\n",
      "255/255 [==============================] - 1s 2ms/step - loss: 7.7344 - val_loss: 75.9837\n",
      "Epoch 107/500\n",
      "255/255 [==============================] - 1s 2ms/step - loss: 8.2063 - val_loss: 104.6554\n",
      "Epoch 108/500\n",
      "255/255 [==============================] - 1s 3ms/step - loss: 9.4868 - val_loss: 76.7325\n",
      "Epoch 109/500\n",
      "255/255 [==============================] - 1s 2ms/step - loss: 8.8320 - val_loss: 77.4617\n",
      "Epoch 110/500\n",
      "255/255 [==============================] - 1s 2ms/step - loss: 8.0693 - val_loss: 109.0500\n",
      "Epoch 111/500\n",
      "255/255 [==============================] - 1s 3ms/step - loss: 9.4978 - val_loss: 102.7699\n"
     ]
    },
    {
     "data": {
      "text/plain": [
       "<keras.callbacks.History at 0x7fc8a5904410>"
      ]
     },
     "execution_count": 12,
     "metadata": {},
     "output_type": "execute_result"
    }
   ],
   "source": [
    "import tensorflow as tf\n",
    "model_time = tf.keras.Sequential([\n",
    "    tf.keras.layers.Dense(256, input_shape=[2], activation='relu'),\n",
    "    tf.keras.layers.Dense(128, activation='relu'),\n",
    "    tf.keras.layers.Dense(64, activation='relu'),\n",
    "    tf.keras.layers.Dense(32, activation='relu'),\n",
    "    tf.keras.layers.Dense(16, activation='relu'),\n",
    "    tf.keras.layers.Dense(8, activation='relu'),\n",
    "    tf.keras.layers.Dense(1)\n",
    "])\n",
    "\n",
    "model_time.compile(loss='mae', optimizer=tf.optimizers.Adam(learning_rate=1e-4),)\n",
    "\n",
    "early_stopping = tf.keras.callbacks.EarlyStopping(monitor='val_loss', patience=10)\n",
    "save_best = tf.keras.callbacks.ModelCheckpoint('multiplication.h5', monitor='val_loss', save_best_only=True, mode='min')\n",
    "\n",
    "model_time.fit(X_time, y_time, epochs=500, verbose=1, validation_split=.2, callbacks=[early_stopping, save_best])"
   ]
  },
  {
   "cell_type": "code",
   "execution_count": 13,
   "id": "QSD44mEW-tp0",
   "metadata": {
    "colab": {
     "base_uri": "https://localhost:8080/"
    },
    "id": "QSD44mEW-tp0",
    "outputId": "21628f1f-b7e4-449f-9778-13d1540c9ef9"
   },
   "outputs": [
    {
     "name": "stdout",
     "output_type": "stream",
     "text": [
      "17x17 => Predicted: 288.97467041015625, Real: 289\n",
      "17x18 => Predicted: 306.3853759765625, Real: 306\n",
      "17x19 => Predicted: 323.7435302734375, Real: 323\n",
      "17x20 => Predicted: 341.1266784667969, Real: 340\n",
      "17x21 => Predicted: 358.7687072753906, Real: 357\n",
      "17x22 => Predicted: 376.23492431640625, Real: 374\n",
      "17x23 => Predicted: 392.4726867675781, Real: 391\n",
      "18x17 => Predicted: 305.6449279785156, Real: 306\n",
      "18x18 => Predicted: 323.979736328125, Real: 324\n",
      "18x19 => Predicted: 342.43243408203125, Real: 342\n",
      "18x20 => Predicted: 360.2923278808594, Real: 360\n",
      "18x21 => Predicted: 379.4036865234375, Real: 378\n",
      "18x22 => Predicted: 398.1650695800781, Real: 396\n",
      "18x23 => Predicted: 416.2649841308594, Real: 414\n",
      "19x17 => Predicted: 322.2666320800781, Real: 323\n",
      "19x18 => Predicted: 341.288330078125, Real: 342\n",
      "19x19 => Predicted: 360.6009521484375, Real: 361\n",
      "19x20 => Predicted: 381.24639892578125, Real: 380\n",
      "19x21 => Predicted: 400.847900390625, Real: 399\n",
      "19x22 => Predicted: 420.60321044921875, Real: 418\n",
      "19x23 => Predicted: 438.5094909667969, Real: 437\n",
      "20x17 => Predicted: 339.2709045410156, Real: 340\n",
      "20x18 => Predicted: 358.6165771484375, Real: 360\n",
      "20x19 => Predicted: 379.43316650390625, Real: 380\n",
      "20x20 => Predicted: 400.68426513671875, Real: 400\n",
      "20x21 => Predicted: 422.3604736328125, Real: 420\n",
      "20x22 => Predicted: 442.3542175292969, Real: 440\n",
      "20x23 => Predicted: 462.2488708496094, Real: 460\n",
      "21x17 => Predicted: 356.12030029296875, Real: 357\n",
      "21x18 => Predicted: 377.3993835449219, Real: 378\n",
      "21x19 => Predicted: 398.9044494628906, Real: 399\n",
      "21x20 => Predicted: 420.2474060058594, Real: 420\n",
      "21x21 => Predicted: 441.79486083984375, Real: 441\n",
      "21x22 => Predicted: 464.7054138183594, Real: 462\n",
      "21x23 => Predicted: 486.5382385253906, Real: 483\n",
      "22x17 => Predicted: 374.05718994140625, Real: 374\n",
      "22x18 => Predicted: 396.5663757324219, Real: 396\n",
      "22x19 => Predicted: 418.4500427246094, Real: 418\n",
      "22x20 => Predicted: 440.3546142578125, Real: 440\n",
      "22x21 => Predicted: 462.92279052734375, Real: 462\n",
      "22x22 => Predicted: 485.7817077636719, Real: 484\n",
      "22x23 => Predicted: 508.53515625, Real: 506\n",
      "23x17 => Predicted: 391.8977966308594, Real: 391\n",
      "23x18 => Predicted: 414.7647705078125, Real: 414\n",
      "23x19 => Predicted: 438.32611083984375, Real: 437\n",
      "23x20 => Predicted: 461.05718994140625, Real: 460\n",
      "23x21 => Predicted: 483.6935119628906, Real: 483\n",
      "23x22 => Predicted: 506.1716003417969, Real: 506\n",
      "23x23 => Predicted: 530.7389526367188, Real: 529\n"
     ]
    }
   ],
   "source": [
    "for i in range(17, 24):\n",
    "    for j in range(17, 24):\n",
    "        pred = model_time.predict([[i, j]])[0][0]\n",
    "        #pred = scaler.inverse_transform(pred.reshape(-1, 1))\n",
    "        print(f\"{i}x{j} => Predicted: {pred}, Real: {i*j}\")"
   ]
  },
  {
   "cell_type": "code",
   "execution_count": 14,
   "id": "g8MeqGmw799X",
   "metadata": {
    "colab": {
     "base_uri": "https://localhost:8080/"
    },
    "id": "g8MeqGmw799X",
    "outputId": "929950b1-1f10-45bf-f2f0-1ea6d1ccf1d7"
   },
   "outputs": [
    {
     "name": "stdout",
     "output_type": "stream",
     "text": [
      "Epoch 1/500\n",
      "250/250 [==============================] - 1s 3ms/step - loss: 1.2379 - val_loss: 2.5209\n",
      "Epoch 2/500\n",
      "250/250 [==============================] - 1s 3ms/step - loss: 0.8675 - val_loss: 2.3428\n",
      "Epoch 3/500\n",
      "250/250 [==============================] - 1s 2ms/step - loss: 0.7610 - val_loss: 2.2521\n",
      "Epoch 4/500\n",
      "250/250 [==============================] - 1s 3ms/step - loss: 0.6825 - val_loss: 2.0605\n",
      "Epoch 5/500\n",
      "250/250 [==============================] - 1s 2ms/step - loss: 0.6168 - val_loss: 1.7887\n",
      "Epoch 6/500\n",
      "250/250 [==============================] - 1s 2ms/step - loss: 0.5663 - val_loss: 1.6364\n",
      "Epoch 7/500\n",
      "250/250 [==============================] - 1s 2ms/step - loss: 0.5154 - val_loss: 1.2714\n",
      "Epoch 8/500\n",
      "250/250 [==============================] - 1s 3ms/step - loss: 0.4705 - val_loss: 1.3819\n",
      "Epoch 9/500\n",
      "250/250 [==============================] - 1s 3ms/step - loss: 0.4197 - val_loss: 1.4792\n",
      "Epoch 10/500\n",
      "250/250 [==============================] - 1s 2ms/step - loss: 0.3899 - val_loss: 1.3270\n",
      "Epoch 11/500\n",
      "250/250 [==============================] - 1s 2ms/step - loss: 0.3561 - val_loss: 1.3223\n",
      "Epoch 12/500\n",
      "250/250 [==============================] - 1s 2ms/step - loss: 0.3185 - val_loss: 1.1898\n",
      "Epoch 13/500\n",
      "250/250 [==============================] - 1s 2ms/step - loss: 0.2812 - val_loss: 0.9590\n",
      "Epoch 14/500\n",
      "250/250 [==============================] - 1s 2ms/step - loss: 0.2676 - val_loss: 0.9670\n",
      "Epoch 15/500\n",
      "250/250 [==============================] - 1s 3ms/step - loss: 0.2567 - val_loss: 0.7196\n",
      "Epoch 16/500\n",
      "250/250 [==============================] - 1s 3ms/step - loss: 0.2289 - val_loss: 0.8153\n",
      "Epoch 17/500\n",
      "250/250 [==============================] - 1s 2ms/step - loss: 0.2117 - val_loss: 1.1237\n",
      "Epoch 18/500\n",
      "250/250 [==============================] - 1s 3ms/step - loss: 0.2059 - val_loss: 0.7432\n",
      "Epoch 19/500\n",
      "250/250 [==============================] - 1s 2ms/step - loss: 0.1943 - val_loss: 0.7149\n",
      "Epoch 20/500\n",
      "250/250 [==============================] - 1s 3ms/step - loss: 0.1782 - val_loss: 0.7301\n",
      "Epoch 21/500\n",
      "250/250 [==============================] - 1s 2ms/step - loss: 0.1703 - val_loss: 0.6284\n",
      "Epoch 22/500\n",
      "250/250 [==============================] - 1s 2ms/step - loss: 0.1614 - val_loss: 0.6084\n",
      "Epoch 23/500\n",
      "250/250 [==============================] - 1s 2ms/step - loss: 0.1568 - val_loss: 0.6487\n",
      "Epoch 24/500\n",
      "250/250 [==============================] - 1s 2ms/step - loss: 0.1377 - val_loss: 0.5838\n",
      "Epoch 25/500\n",
      "250/250 [==============================] - 1s 2ms/step - loss: 0.1301 - val_loss: 0.8995\n",
      "Epoch 26/500\n",
      "250/250 [==============================] - 1s 2ms/step - loss: 0.1200 - val_loss: 0.5025\n",
      "Epoch 27/500\n",
      "250/250 [==============================] - 1s 2ms/step - loss: 0.1067 - val_loss: 0.5217\n",
      "Epoch 28/500\n",
      "250/250 [==============================] - 1s 2ms/step - loss: 0.1024 - val_loss: 0.3871\n",
      "Epoch 29/500\n",
      "250/250 [==============================] - 1s 3ms/step - loss: 0.0990 - val_loss: 0.4839\n",
      "Epoch 30/500\n",
      "250/250 [==============================] - 1s 2ms/step - loss: 0.0897 - val_loss: 0.4198\n",
      "Epoch 31/500\n",
      "250/250 [==============================] - 1s 3ms/step - loss: 0.1027 - val_loss: 0.5198\n",
      "Epoch 32/500\n",
      "250/250 [==============================] - 1s 3ms/step - loss: 0.0768 - val_loss: 0.3152\n",
      "Epoch 33/500\n",
      "250/250 [==============================] - 1s 2ms/step - loss: 0.0816 - val_loss: 0.2711\n",
      "Epoch 34/500\n",
      "250/250 [==============================] - 1s 2ms/step - loss: 0.0716 - val_loss: 0.3401\n",
      "Epoch 35/500\n",
      "250/250 [==============================] - 1s 2ms/step - loss: 0.0695 - val_loss: 0.4751\n",
      "Epoch 36/500\n",
      "250/250 [==============================] - 1s 2ms/step - loss: 0.0741 - val_loss: 0.3127\n",
      "Epoch 37/500\n",
      "250/250 [==============================] - 1s 2ms/step - loss: 0.0651 - val_loss: 0.2544\n",
      "Epoch 38/500\n",
      "250/250 [==============================] - 1s 2ms/step - loss: 0.0775 - val_loss: 0.3364\n",
      "Epoch 39/500\n",
      "250/250 [==============================] - 1s 3ms/step - loss: 0.0569 - val_loss: 0.2713\n",
      "Epoch 40/500\n",
      "250/250 [==============================] - 1s 3ms/step - loss: 0.0534 - val_loss: 0.3033\n",
      "Epoch 41/500\n",
      "250/250 [==============================] - 1s 2ms/step - loss: 0.0541 - val_loss: 0.2147\n",
      "Epoch 42/500\n",
      "250/250 [==============================] - 1s 2ms/step - loss: 0.0604 - val_loss: 0.3699\n",
      "Epoch 43/500\n",
      "250/250 [==============================] - 1s 3ms/step - loss: 0.0496 - val_loss: 0.2122\n",
      "Epoch 44/500\n",
      "250/250 [==============================] - 1s 2ms/step - loss: 0.0665 - val_loss: 0.2494\n",
      "Epoch 45/500\n",
      "250/250 [==============================] - 1s 3ms/step - loss: 0.0594 - val_loss: 0.3323\n",
      "Epoch 46/500\n",
      "250/250 [==============================] - 1s 3ms/step - loss: 0.0599 - val_loss: 0.2015\n",
      "Epoch 47/500\n",
      "250/250 [==============================] - 1s 2ms/step - loss: 0.0503 - val_loss: 0.5015\n",
      "Epoch 48/500\n",
      "250/250 [==============================] - 1s 2ms/step - loss: 0.0586 - val_loss: 0.2050\n",
      "Epoch 49/500\n",
      "250/250 [==============================] - 1s 2ms/step - loss: 0.0477 - val_loss: 0.1600\n",
      "Epoch 50/500\n",
      "250/250 [==============================] - 1s 3ms/step - loss: 0.0528 - val_loss: 0.3503\n",
      "Epoch 51/500\n",
      "250/250 [==============================] - 1s 2ms/step - loss: 0.0523 - val_loss: 0.2515\n",
      "Epoch 52/500\n",
      "250/250 [==============================] - 1s 3ms/step - loss: 0.0580 - val_loss: 0.3989\n",
      "Epoch 53/500\n",
      "250/250 [==============================] - 1s 2ms/step - loss: 0.0512 - val_loss: 0.1788\n",
      "Epoch 54/500\n",
      "250/250 [==============================] - 1s 3ms/step - loss: 0.0556 - val_loss: 0.2465\n",
      "Epoch 55/500\n",
      "250/250 [==============================] - 1s 2ms/step - loss: 0.0452 - val_loss: 0.2399\n",
      "Epoch 56/500\n",
      "250/250 [==============================] - 1s 2ms/step - loss: 0.0518 - val_loss: 0.3298\n",
      "Epoch 57/500\n",
      "250/250 [==============================] - 1s 3ms/step - loss: 0.0480 - val_loss: 0.1737\n",
      "Epoch 58/500\n",
      "250/250 [==============================] - 1s 2ms/step - loss: 0.0417 - val_loss: 0.1974\n",
      "Epoch 59/500\n",
      "250/250 [==============================] - 1s 2ms/step - loss: 0.0461 - val_loss: 0.2113\n"
     ]
    },
    {
     "data": {
      "text/plain": [
       "<keras.callbacks.History at 0x7fc8a55e2b10>"
      ]
     },
     "execution_count": 14,
     "metadata": {},
     "output_type": "execute_result"
    }
   ],
   "source": [
    "import tensorflow as tf\n",
    "model_divide = tf.keras.Sequential([\n",
    "    tf.keras.layers.Dense(256, input_shape=[2], activation='relu'),\n",
    "    tf.keras.layers.Dense(128, activation='relu'),\n",
    "    tf.keras.layers.Dense(64, activation='relu'),\n",
    "    tf.keras.layers.Dense(32, activation='relu'),\n",
    "    tf.keras.layers.Dense(16, activation='relu'),\n",
    "    tf.keras.layers.Dense(8, activation='relu'),\n",
    "    tf.keras.layers.Dense(1)\n",
    "])\n",
    "\n",
    "model_divide.compile(loss='mae', optimizer=tf.optimizers.Adam(learning_rate=1e-4),)\n",
    "\n",
    "early_stopping = tf.keras.callbacks.EarlyStopping(monitor='val_loss', patience=10)\n",
    "save_best = tf.keras.callbacks.ModelCheckpoint('divide.h5', monitor='val_loss', save_best_only=True, mode='min')\n",
    "\n",
    "model_divide.fit(X_divide, y_divide, epochs=500, verbose=1, validation_split=.2, callbacks=[save_best, early_stopping])"
   ]
  },
  {
   "cell_type": "code",
   "execution_count": 15,
   "id": "DI47fFCFRD3D",
   "metadata": {
    "colab": {
     "base_uri": "https://localhost:8080/"
    },
    "id": "DI47fFCFRD3D",
    "outputId": "654aff49-bd0b-4136-e513-5da36679eb99"
   },
   "outputs": [
    {
     "name": "stdout",
     "output_type": "stream",
     "text": [
      "17/17 => Predicted: [0.9609252], Real: 1.0\n",
      "17/18 => Predicted: [0.92659175], Real: 0.9444444444444444\n",
      "17/19 => Predicted: [0.876807], Real: 0.8947368421052632\n",
      "17/20 => Predicted: [0.82775056], Real: 0.85\n",
      "17/21 => Predicted: [0.779493], Real: 0.8095238095238095\n",
      "17/22 => Predicted: [0.7374778], Real: 0.7727272727272727\n",
      "17/23 => Predicted: [0.70183957], Real: 0.7391304347826086\n",
      "18/17 => Predicted: [1.0121005], Real: 1.0588235294117647\n",
      "18/18 => Predicted: [0.97641003], Real: 1.0\n",
      "18/19 => Predicted: [0.92826676], Real: 0.9473684210526315\n",
      "18/20 => Predicted: [0.87721694], Real: 0.9\n",
      "18/21 => Predicted: [0.8357712], Real: 0.8571428571428571\n",
      "18/22 => Predicted: [0.7876767], Real: 0.8181818181818182\n",
      "18/23 => Predicted: [0.74838626], Real: 0.782608695652174\n",
      "19/17 => Predicted: [1.0658345], Real: 1.1176470588235294\n",
      "19/18 => Predicted: [1.0293735], Real: 1.0555555555555556\n",
      "19/19 => Predicted: [0.9818568], Real: 1.0\n",
      "19/20 => Predicted: [0.9269444], Real: 0.95\n",
      "19/21 => Predicted: [0.88078475], Real: 0.9047619047619048\n",
      "19/22 => Predicted: [0.840395], Real: 0.8636363636363636\n",
      "19/23 => Predicted: [0.79647756], Real: 0.8260869565217391\n",
      "20/17 => Predicted: [1.1379151], Real: 1.1764705882352942\n",
      "20/18 => Predicted: [1.0826513], Real: 1.1111111111111112\n",
      "20/19 => Predicted: [1.0370531], Real: 1.0526315789473684\n",
      "20/20 => Predicted: [0.97997165], Real: 1.0\n",
      "20/21 => Predicted: [0.92781603], Real: 0.9523809523809523\n",
      "20/22 => Predicted: [0.8829459], Real: 0.9090909090909091\n",
      "20/23 => Predicted: [0.841421], Real: 0.8695652173913043\n",
      "21/17 => Predicted: [1.2098849], Real: 1.2352941176470589\n",
      "21/18 => Predicted: [1.137155], Real: 1.1666666666666667\n",
      "21/19 => Predicted: [1.0885621], Real: 1.105263157894737\n",
      "21/20 => Predicted: [1.034568], Real: 1.05\n",
      "21/21 => Predicted: [0.9764075], Real: 1.0\n",
      "21/22 => Predicted: [0.92740536], Real: 0.9545454545454546\n",
      "21/23 => Predicted: [0.8839463], Real: 0.9130434782608695\n",
      "22/17 => Predicted: [1.2756394], Real: 1.2941176470588236\n",
      "22/18 => Predicted: [1.1910483], Real: 1.2222222222222223\n",
      "22/19 => Predicted: [1.1419708], Real: 1.1578947368421053\n",
      "22/20 => Predicted: [1.0880347], Real: 1.1\n",
      "22/21 => Predicted: [1.0311829], Real: 1.0476190476190477\n",
      "22/22 => Predicted: [0.976483], Real: 1.0\n",
      "22/23 => Predicted: [0.9276284], Real: 0.9565217391304348\n",
      "23/17 => Predicted: [1.3251894], Real: 1.3529411764705883\n",
      "23/18 => Predicted: [1.2377323], Real: 1.2777777777777777\n",
      "23/19 => Predicted: [1.1890152], Real: 1.2105263157894737\n",
      "23/20 => Predicted: [1.136368], Real: 1.15\n",
      "23/21 => Predicted: [1.0829515], Real: 1.0952380952380953\n",
      "23/22 => Predicted: [1.0267305], Real: 1.0454545454545454\n",
      "23/23 => Predicted: [0.9754921], Real: 1.0\n"
     ]
    }
   ],
   "source": [
    "for i in range(17, 24):\n",
    "    for j in range(17, 24):\n",
    "        print(f\"{i}/{j} => Predicted: {model_divide.predict([[i,j]])[0]}, Real: {i/j}\")"
   ]
  }
 ],
 "metadata": {
  "accelerator": "GPU",
  "colab": {
   "collapsed_sections": [],
   "name": "Untitled (1).ipynb",
   "provenance": []
  },
  "kernelspec": {
   "display_name": "Python 3",
   "language": "python",
   "name": "python3"
  },
  "language_info": {
   "codemirror_mode": {
    "name": "ipython",
    "version": 3
   },
   "file_extension": ".py",
   "mimetype": "text/x-python",
   "name": "python",
   "nbconvert_exporter": "python",
   "pygments_lexer": "ipython3",
   "version": "3.8.5"
  },
  "latex_envs": {
   "LaTeX_envs_menu_present": true,
   "autoclose": false,
   "autocomplete": true,
   "bibliofile": "biblio.bib",
   "cite_by": "apalike",
   "current_citInitial": 1,
   "eqLabelWithNumbers": true,
   "eqNumInitial": 1,
   "hotkeys": {
    "equation": "Ctrl-E",
    "itemize": "Ctrl-I"
   },
   "labels_anchors": false,
   "latex_user_defs": false,
   "report_style_numbering": false,
   "user_envs_cfg": false
  },
  "toc": {
   "base_numbering": 1,
   "nav_menu": {},
   "number_sections": true,
   "sideBar": true,
   "skip_h1_title": false,
   "title_cell": "Table of Contents",
   "title_sidebar": "Contents",
   "toc_cell": false,
   "toc_position": {},
   "toc_section_display": true,
   "toc_window_display": true
  }
 },
 "nbformat": 4,
 "nbformat_minor": 5
}
